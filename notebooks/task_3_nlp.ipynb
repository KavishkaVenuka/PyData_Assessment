{
 "cells": [
  {
   "cell_type": "code",
   "execution_count": 1,
   "metadata": {},
   "outputs": [
    {
     "name": "stderr",
     "output_type": "stream",
     "text": [
      "c:\\Users\\senid\\AppData\\Local\\Programs\\Python\\Python39\\lib\\site-packages\\tqdm\\auto.py:21: TqdmWarning: IProgress not found. Please update jupyter and ipywidgets. See https://ipywidgets.readthedocs.io/en/stable/user_install.html\n",
      "  from .autonotebook import tqdm as notebook_tqdm\n"
     ]
    }
   ],
   "source": [
    "import pandas as pd \n",
    "from transformers import pipeline"
   ]
  },
  {
   "cell_type": "code",
   "execution_count": 2,
   "metadata": {},
   "outputs": [],
   "source": [
    "# Read the csv file..."
   ]
  },
  {
   "cell_type": "code",
   "execution_count": 3,
   "metadata": {},
   "outputs": [],
   "source": [
    "df = pd.read_csv(\"../data/commentary_2023.csv\")\n"
   ]
  },
  {
   "cell_type": "code",
   "execution_count": 4,
   "metadata": {},
   "outputs": [],
   "source": [
    " #here is the csv file content..."
   ]
  },
  {
   "cell_type": "code",
   "execution_count": 5,
   "metadata": {},
   "outputs": [
    {
     "data": {
      "text/html": [
       "<div>\n",
       "<style scoped>\n",
       "    .dataframe tbody tr th:only-of-type {\n",
       "        vertical-align: middle;\n",
       "    }\n",
       "\n",
       "    .dataframe tbody tr th {\n",
       "        vertical-align: top;\n",
       "    }\n",
       "\n",
       "    .dataframe thead th {\n",
       "        text-align: right;\n",
       "    }\n",
       "</style>\n",
       "<table border=\"1\" class=\"dataframe\">\n",
       "  <thead>\n",
       "    <tr style=\"text-align: right;\">\n",
       "      <th></th>\n",
       "      <th>Unnamed: 0</th>\n",
       "      <th>commentary</th>\n",
       "    </tr>\n",
       "  </thead>\n",
       "  <tbody>\n",
       "    <tr>\n",
       "      <th>0</th>\n",
       "      <td>19</td>\n",
       "      <td>Travis Head | Player of the Match - 137(120): ...</td>\n",
       "    </tr>\n",
       "    <tr>\n",
       "      <th>1</th>\n",
       "      <td>20</td>\n",
       "      <td>Adam Zampa: Interesting to see the strategy to...</td>\n",
       "    </tr>\n",
       "    <tr>\n",
       "      <th>2</th>\n",
       "      <td>21</td>\n",
       "      <td>Mitchell Starc: He (Cummins) was phenomenal, h...</td>\n",
       "    </tr>\n",
       "    <tr>\n",
       "      <th>3</th>\n",
       "      <td>22</td>\n",
       "      <td>Steve Smith: Incredible feeling! Atmosphere wa...</td>\n",
       "    </tr>\n",
       "    <tr>\n",
       "      <th>4</th>\n",
       "      <td>23</td>\n",
       "      <td>Mitch Marsh: Pure elation right now. Been the ...</td>\n",
       "    </tr>\n",
       "    <tr>\n",
       "      <th>...</th>\n",
       "      <td>...</td>\n",
       "      <td>...</td>\n",
       "    </tr>\n",
       "    <tr>\n",
       "      <th>370</th>\n",
       "      <td>442</td>\n",
       "      <td>Round the wicket to Head</td>\n",
       "    </tr>\n",
       "    <tr>\n",
       "      <th>371</th>\n",
       "      <td>443</td>\n",
       "      <td>Bumrah to Warner, 3 runs, nice outswing again ...</td>\n",
       "    </tr>\n",
       "    <tr>\n",
       "      <th>372</th>\n",
       "      <td>444</td>\n",
       "      <td>Bumrah round the wicket to Head and two slips ...</td>\n",
       "    </tr>\n",
       "    <tr>\n",
       "      <th>373</th>\n",
       "      <td>445</td>\n",
       "      <td>Bumrah to Warner, FOUR, edgedddd and no-one go...</td>\n",
       "    </tr>\n",
       "    <tr>\n",
       "      <th>374</th>\n",
       "      <td>446</td>\n",
       "      <td>Warner and Head are at the crease. Warner is o...</td>\n",
       "    </tr>\n",
       "  </tbody>\n",
       "</table>\n",
       "<p>375 rows × 2 columns</p>\n",
       "</div>"
      ],
      "text/plain": [
       "     Unnamed: 0                                         commentary\n",
       "0            19  Travis Head | Player of the Match - 137(120): ...\n",
       "1            20  Adam Zampa: Interesting to see the strategy to...\n",
       "2            21  Mitchell Starc: He (Cummins) was phenomenal, h...\n",
       "3            22  Steve Smith: Incredible feeling! Atmosphere wa...\n",
       "4            23  Mitch Marsh: Pure elation right now. Been the ...\n",
       "..          ...                                                ...\n",
       "370         442                           Round the wicket to Head\n",
       "371         443  Bumrah to Warner, 3 runs, nice outswing again ...\n",
       "372         444  Bumrah round the wicket to Head and two slips ...\n",
       "373         445  Bumrah to Warner, FOUR, edgedddd and no-one go...\n",
       "374         446  Warner and Head are at the crease. Warner is o...\n",
       "\n",
       "[375 rows x 2 columns]"
      ]
     },
     "execution_count": 5,
     "metadata": {},
     "output_type": "execute_result"
    }
   ],
   "source": [
    "df"
   ]
  },
  {
   "cell_type": "code",
   "execution_count": 6,
   "metadata": {},
   "outputs": [],
   "source": [
    "#the unnamed column is redundant. So let's remove it..."
   ]
  },
  {
   "cell_type": "code",
   "execution_count": 7,
   "metadata": {},
   "outputs": [],
   "source": [
    "df= df.drop(df.columns[0], axis =1)"
   ]
  },
  {
   "cell_type": "code",
   "execution_count": 8,
   "metadata": {},
   "outputs": [],
   "source": [
    "#checking the NULL values..."
   ]
  },
  {
   "cell_type": "code",
   "execution_count": 9,
   "metadata": {},
   "outputs": [
    {
     "data": {
      "text/plain": [
       "commentary    0\n",
       "dtype: int64"
      ]
     },
     "execution_count": 9,
     "metadata": {},
     "output_type": "execute_result"
    }
   ],
   "source": [
    "df.isnull().sum()"
   ]
  },
  {
   "cell_type": "code",
   "execution_count": 10,
   "metadata": {},
   "outputs": [],
   "source": [
    "#checking the duplicate values..."
   ]
  },
  {
   "cell_type": "code",
   "execution_count": 11,
   "metadata": {},
   "outputs": [
    {
     "name": "stdout",
     "output_type": "stream",
     "text": [
      "0\n"
     ]
    }
   ],
   "source": [
    "duplicates = df.duplicated().sum()\n",
    "print(duplicates)"
   ]
  },
  {
   "cell_type": "code",
   "execution_count": 12,
   "metadata": {},
   "outputs": [],
   "source": [
    "#removing the eextra white space..."
   ]
  },
  {
   "cell_type": "code",
   "execution_count": 13,
   "metadata": {},
   "outputs": [],
   "source": [
    "df[\"commentary\"] = df[\"commentary\"].str.strip()"
   ]
  },
  {
   "cell_type": "code",
   "execution_count": 14,
   "metadata": {},
   "outputs": [],
   "source": [
    "#dataset after the cleaning process"
   ]
  },
  {
   "cell_type": "code",
   "execution_count": 15,
   "metadata": {},
   "outputs": [
    {
     "data": {
      "text/html": [
       "<div>\n",
       "<style scoped>\n",
       "    .dataframe tbody tr th:only-of-type {\n",
       "        vertical-align: middle;\n",
       "    }\n",
       "\n",
       "    .dataframe tbody tr th {\n",
       "        vertical-align: top;\n",
       "    }\n",
       "\n",
       "    .dataframe thead th {\n",
       "        text-align: right;\n",
       "    }\n",
       "</style>\n",
       "<table border=\"1\" class=\"dataframe\">\n",
       "  <thead>\n",
       "    <tr style=\"text-align: right;\">\n",
       "      <th></th>\n",
       "      <th>commentary</th>\n",
       "    </tr>\n",
       "  </thead>\n",
       "  <tbody>\n",
       "    <tr>\n",
       "      <th>0</th>\n",
       "      <td>Travis Head | Player of the Match - 137(120): ...</td>\n",
       "    </tr>\n",
       "    <tr>\n",
       "      <th>1</th>\n",
       "      <td>Adam Zampa: Interesting to see the strategy to...</td>\n",
       "    </tr>\n",
       "    <tr>\n",
       "      <th>2</th>\n",
       "      <td>Mitchell Starc: He (Cummins) was phenomenal, h...</td>\n",
       "    </tr>\n",
       "    <tr>\n",
       "      <th>3</th>\n",
       "      <td>Steve Smith: Incredible feeling! Atmosphere wa...</td>\n",
       "    </tr>\n",
       "    <tr>\n",
       "      <th>4</th>\n",
       "      <td>Mitch Marsh: Pure elation right now. Been the ...</td>\n",
       "    </tr>\n",
       "    <tr>\n",
       "      <th>...</th>\n",
       "      <td>...</td>\n",
       "    </tr>\n",
       "    <tr>\n",
       "      <th>370</th>\n",
       "      <td>Round the wicket to Head</td>\n",
       "    </tr>\n",
       "    <tr>\n",
       "      <th>371</th>\n",
       "      <td>Bumrah to Warner, 3 runs, nice outswing again ...</td>\n",
       "    </tr>\n",
       "    <tr>\n",
       "      <th>372</th>\n",
       "      <td>Bumrah round the wicket to Head and two slips ...</td>\n",
       "    </tr>\n",
       "    <tr>\n",
       "      <th>373</th>\n",
       "      <td>Bumrah to Warner, FOUR, edgedddd and no-one go...</td>\n",
       "    </tr>\n",
       "    <tr>\n",
       "      <th>374</th>\n",
       "      <td>Warner and Head are at the crease. Warner is o...</td>\n",
       "    </tr>\n",
       "  </tbody>\n",
       "</table>\n",
       "<p>375 rows × 1 columns</p>\n",
       "</div>"
      ],
      "text/plain": [
       "                                            commentary\n",
       "0    Travis Head | Player of the Match - 137(120): ...\n",
       "1    Adam Zampa: Interesting to see the strategy to...\n",
       "2    Mitchell Starc: He (Cummins) was phenomenal, h...\n",
       "3    Steve Smith: Incredible feeling! Atmosphere wa...\n",
       "4    Mitch Marsh: Pure elation right now. Been the ...\n",
       "..                                                 ...\n",
       "370                           Round the wicket to Head\n",
       "371  Bumrah to Warner, 3 runs, nice outswing again ...\n",
       "372  Bumrah round the wicket to Head and two slips ...\n",
       "373  Bumrah to Warner, FOUR, edgedddd and no-one go...\n",
       "374  Warner and Head are at the crease. Warner is o...\n",
       "\n",
       "[375 rows x 1 columns]"
      ]
     },
     "execution_count": 15,
     "metadata": {},
     "output_type": "execute_result"
    }
   ],
   "source": [
    "df"
   ]
  },
  {
   "cell_type": "code",
   "execution_count": 16,
   "metadata": {},
   "outputs": [],
   "source": [
    "from transformers import pipeline"
   ]
  },
  {
   "cell_type": "code",
   "execution_count": 17,
   "metadata": {},
   "outputs": [
    {
     "name": "stderr",
     "output_type": "stream",
     "text": [
      "No model was supplied, defaulted to distilbert/distilbert-base-uncased-finetuned-sst-2-english and revision 714eb0f (https://huggingface.co/distilbert/distilbert-base-uncased-finetuned-sst-2-english).\n",
      "Using a pipeline without specifying a model name and revision in production is not recommended.\n",
      "Device set to use cpu\n"
     ]
    }
   ],
   "source": [
    "classifier = pipeline(\"sentiment-analysis\")"
   ]
  },
  {
   "cell_type": "code",
   "execution_count": 18,
   "metadata": {},
   "outputs": [
    {
     "name": "stdout",
     "output_type": "stream",
     "text": [
      "                                            commentary sentiment  confidence\n",
      "0    Travis Head | Player of the Match - 137(120): ...  POSITIVE        1.00\n",
      "1    Adam Zampa: Interesting to see the strategy to...  POSITIVE        0.87\n",
      "2    Mitchell Starc: He (Cummins) was phenomenal, h...  POSITIVE        1.00\n",
      "3    Steve Smith: Incredible feeling! Atmosphere wa...  POSITIVE        1.00\n",
      "4    Mitch Marsh: Pure elation right now. Been the ...  POSITIVE        0.99\n",
      "..                                                 ...       ...         ...\n",
      "370                           Round the wicket to Head  POSITIVE        0.99\n",
      "371  Bumrah to Warner, 3 runs, nice outswing again ...  POSITIVE        0.64\n",
      "372  Bumrah round the wicket to Head and two slips ...  POSITIVE        0.99\n",
      "373  Bumrah to Warner, FOUR, edgedddd and no-one go...  NEGATIVE        0.56\n",
      "374  Warner and Head are at the crease. Warner is o...  NEGATIVE        0.94\n",
      "\n",
      "[375 rows x 3 columns]\n"
     ]
    }
   ],
   "source": [
    "# Apply the model to the 'commentary' column\n",
    "df['sentiment'] = df['commentary'].apply(\n",
    "    lambda x: classifier(x)[0]['label'])\n",
    "df['confidence'] = df['commentary'].apply(\n",
    "    lambda x: classifier(x)[0]['score'])\n",
    "\n",
    "# Format confidence scores to two decimal points\n",
    "df['confidence'] = df['confidence'].apply(\n",
    "    lambda x: round(x, 2))\n",
    "\n",
    "# Display the updated DataFrame\n",
    "print(df[['commentary', 'sentiment', 'confidence']])"
   ]
  },
  {
   "cell_type": "code",
   "execution_count": 19,
   "metadata": {},
   "outputs": [
    {
     "name": "stdout",
     "output_type": "stream",
     "text": [
      "Updated dataset saved to 'data/out/commentary_with_sentiments.csv'\n"
     ]
    }
   ],
   "source": [
    "# Save the DataFrame with sentiment results\n",
    "df.to_csv(\"../data/out/commentary_with_sentiments.csv\", index=False)\n",
    "print(\"Updated dataset saved to 'data/out/commentary_with_sentiments.csv'\")\n"
   ]
  },
  {
   "cell_type": "code",
   "execution_count": 21,
   "metadata": {},
   "outputs": [
    {
     "data": {
      "image/png": "[encoded data removed]",
      "text/plain": [
       "<Figure size 800x600 with 1 Axes>"
      ]
     },
     "metadata": {},
     "output_type": "display_data"
    }
   ],
   "source": [
    "import matplotlib.pyplot as plt\n",
    "\n",
    "# Count the number of sentiments\n",
    "sentiment_counts = df['sentiment'].value_counts()\n",
    "\n",
    "# Plot a bar chart\n",
    "plt.figure(figsize=(8, 6))\n",
    "sentiment_counts.plot(kind='bar', color=['skyblue', 'salmon'])\n",
    "plt.title('Sentiment Distribution of Match Commentary')\n",
    "plt.xlabel('Sentiment')\n",
    "plt.ylabel('Frequency')\n",
    "plt.xticks(rotation=0)\n",
    "plt.tight_layout()\n",
    "plt.show()"
   ]
  }
 ],
 "metadata": {
  "kernelspec": {
   "display_name": "Python 3",
   "language": "python",
   "name": "python3"
  },
  "language_info": {
   "codemirror_mode": {
    "name": "ipython",
    "version": 3
   },
   "file_extension": ".py",
   "mimetype": "text/x-python",
   "name": "python",
   "nbconvert_exporter": "python",
   "pygments_lexer": "ipython3",
   "version": "3.9.0"
  }
 },
 "nbformat": 4,
 "nbformat_minor": 2
}
