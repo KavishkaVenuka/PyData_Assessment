{
 "cells": [
  {
   "cell_type": "markdown",
   "metadata": {},
   "source": [
    "Edited by Dulan"
   ]
  },
  {
   "cell_type": "code",
   "execution_count": 2,
   "metadata": {},
   "outputs": [],
   "source": [
    "import pandas as pd\n",
    "import glob"
   ]
  },
  {
   "cell_type": "markdown",
   "metadata": {},
   "source": [
    "**Merge CSV files**\n",
    "\n",
    "Reading all the csv files and creating one csv file."
   ]
  },
  {
   "cell_type": "code",
   "execution_count": 3,
   "metadata": {},
   "outputs": [],
   "source": [
    "path_pattern = \"../data/WorldCup_Stats/*.csv\"\n",
    "csv_files = glob.glob(path_pattern)\n",
    "\n",
    "data_frames = [pd.read_csv(file) for file in csv_files]\n",
    "\n",
    "combined_df = pd.concat(data_frames,ignore_index=True)\n",
    "combined_df.to_csv(\"../data/crick_df.csv\",index=False)\n"
   ]
  },
  {
   "cell_type": "markdown",
   "metadata": {},
   "source": [
    "**Drop Duplicate files**"
   ]
  },
  {
   "cell_type": "code",
   "execution_count": 4,
   "metadata": {},
   "outputs": [],
   "source": [
    "combined_df.drop(columns=['Unnamed: 0.1','Unnamed: 0'],inplace = True)\n"
   ]
  },
  {
   "cell_type": "code",
   "execution_count": 7,
   "metadata": {},
   "outputs": [
    {
     "name": "stdout",
     "output_type": "stream",
     "text": [
      "         date        venue match_category team_1 team_2  team_1_runs  \\\n",
      "0         NaN   Nottingham   League-Match    PAK     SL        330.0   \n",
      "1         NaN        Leeds   League-Match    EAf    IND        120.0   \n",
      "2  1975-06-18        Leeds     Semi-Final    ENG    AUS         93.0   \n",
      "3  1975-06-14   Birmingham   League-Match    ENG    EAf        290.0   \n",
      "4         NaN     The Oval     Semi-Final     NZ     WI        158.0   \n",
      "\n",
      "   team_1_wickets  team_2_runs  team_2_wickets  \\\n",
      "0             6.0        138.0             0.0   \n",
      "1             0.0        123.0             0.0   \n",
      "2             0.0         94.0             6.0   \n",
      "3             5.0         94.0             0.0   \n",
      "4             0.0        159.0             5.0   \n",
      "\n",
      "                                              result                 pom  \\\n",
      "0                           Pakistan won by 192 runs        Zaheer Abbas   \n",
      "1  India won by 10 wickets (with 181 balls remain...     Farokh Engineer   \n",
      "2  Australia won by 4 wickets (with 188 balls rem...        Gary Gilmour   \n",
      "3                            England won by 196 runs           John Snow   \n",
      "4  West Indies won by 5 wickets (with 119 balls r...  Alvin Kallicharran   \n",
      "\n",
      "  best_batters best_bowlers commentary_line  world_cup_year host_country  \n",
      "0          NaN          NaN             NaN            1975      England  \n",
      "1          NaN          NaN             NaN            1975      England  \n",
      "2          NaN          NaN             NaN            1975      England  \n",
      "3          NaN          NaN             NaN            1975      England  \n",
      "4          NaN          NaN             NaN            1975      England  \n"
     ]
    }
   ],
   "source": [
    "combined_df.drop_duplicates(inplace=True)\n",
    "print(combined_df.head())\n"
   ]
  }
 ],
 "metadata": {
  "kernelspec": {
   "display_name": "base",
   "language": "python",
   "name": "python3"
  },
  "language_info": {
   "codemirror_mode": {
    "name": "ipython",
    "version": 3
   },
   "file_extension": ".py",
   "mimetype": "text/x-python",
   "name": "python",
   "nbconvert_exporter": "python",
   "pygments_lexer": "ipython3",
   "version": "3.12.7"
  }
 },
 "nbformat": 4,
 "nbformat_minor": 2
}
