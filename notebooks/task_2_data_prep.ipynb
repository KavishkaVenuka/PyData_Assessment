{
 "cells": [
  {
   "cell_type": "markdown",
   "metadata": {},
   "source": [
    "### Check whether 13 CSV files are exist"
   ]
  },
  {
   "cell_type": "code",
   "execution_count": null,
   "metadata": {
    "colab": {
     "base_uri": "https://localhost:8080/",
     "height": 1000
    },
    "id": "4Oel34JmlRXk",
    "outputId": "4e3f8725-d228-4071-d5b6-38a7d9da2153"
   },
   "outputs": [
    {
     "name": "stdout",
     "output_type": "stream",
     "text": [
      "All files have been successfully loaded. Here are their details:\n",
      "\n",
      "File: 1975_Match_Stats.csv\n",
      "\n",
      "File: 1979_Match_Stats.csv\n",
      "\n",
      "File: 1983_Match_Stats.csv\n",
      "\n",
      "File: 1987_Match_Stats.csv\n",
      "\n",
      "File: 1992_Match_Stats.csv\n",
      "\n",
      "File: 1996_Match_Stats.csv\n",
      "\n",
      "File: 1999_Match_Stats.csv\n",
      "\n",
      "File: 2003_Match_Stats.csv\n",
      "\n",
      "File: 2007_Match_Stats.csv\n",
      "\n",
      "File: 2011_Match_Stats.csv\n",
      "\n",
      "File: 2015_Match_Stats.csv\n",
      "\n",
      "File: 2019_Match_Stats.csv\n",
      "\n",
      "File: 2023_Match_Stats.csv\n"
     ]
    }
   ],
   "source": [
    "# Import necessary libraries\n",
    "import pandas as pd\n",
    "\n",
    "# Hardcode the file paths\n",
    "file_paths = [\n",
    "    \"../data/WorldCup_Stats/1975_Match_Stats.csv\",\n",
    "    \"../data/WorldCup_Stats/1979_Match_Stats.csv\",\n",
    "    \"../data/WorldCup_Stats/1983_Match_Stats.csv\",\n",
    "    \"../data/WorldCup_Stats/1987_Match_Stats.csv\",\n",
    "    \"../data/WorldCup_Stats/1992_Match_Stats.csv\",\n",
    "    \"../data/WorldCup_Stats/1996_Match_Stats.csv\",\n",
    "    \"../data/WorldCup_Stats/1999_Match_Stats.csv\",\n",
    "    \"../data/WorldCup_Stats/2003_Match_Stats.csv\",\n",
    "    \"../data/WorldCup_Stats/2007_Match_Stats.csv\",\n",
    "    \"../data/WorldCup_Stats/2011_Match_Stats.csv\",\n",
    "    \"../data/WorldCup_Stats/2015_Match_Stats.csv\",\n",
    "    \"../data/WorldCup_Stats/2019_Match_Stats.csv\",\n",
    "    \"../data/WorldCup_Stats/2023_Match_Stats.csv\",\n",
    "]\n",
    "\n",
    "# Check if 13 files are provided\n",
    "if len(file_paths) != 13:\n",
    "    print(\"Error: Please specify exactly 13 CSV file paths.\")\n",
    "else:\n",
    "    # Create an empty dictionary to store DataFrames\n",
    "    world_cup_dataframes = {}\n",
    "\n",
    "    # Read each specified CSV file and store it in the dictionary\n",
    "    for file_path in file_paths:\n",
    "        try:\n",
    "            # Extract the file name from the path to use as the key\n",
    "            file_name = os.path.basename(file_path)  # This works cross-platform\n",
    "            # Load the CSV file into a DataFrame\n",
    "            df = pd.read_csv(file_path)\n",
    "            # Store the DataFrame in the dictionary\n",
    "            world_cup_dataframes[file_name] = df\n",
    "        except FileNotFoundError:\n",
    "            print(f\"Error: File not found -> {file_path}\")\n",
    "        except pd.errors.EmptyDataError:\n",
    "            print(f\"Error: File is empty -> {file_path}\")\n",
    "        except Exception as e:\n",
    "            print(f\"An error occurred while processing {file_path}: {e}\")\n",
    "\n",
    "    # Check if all 13 files were successfully loaded\n",
    "    if len(world_cup_dataframes) == 13:\n",
    "        # Display the names of the uploaded files and their data\n",
    "        print(\"All files have been successfully loaded. Here are their details:\")\n",
    "        for file_name, df in world_cup_dataframes.items():\n",
    "            print(f\"\\nFile: {file_name}\")\n",
    "            df.head()  \n",
    "    else:\n",
    "        print(f\"Warning: Only {len(world_cup_dataframes)} out of 13 files were successfully loaded.\")\n"
   ]
  }
 ],
 "metadata": {
  "colab": {
   "provenance": []
  },
  "kernelspec": {
   "display_name": "Python 3",
   "name": "python3"
  },
  "language_info": {
   "codemirror_mode": {
    "name": "ipython",
    "version": 3
   },
   "file_extension": ".py",
   "mimetype": "text/x-python",
   "name": "python",
   "nbconvert_exporter": "python",
   "pygments_lexer": "ipython3",
   "version": "3.12.5"
  }
 },
 "nbformat": 4,
 "nbformat_minor": 0
}
