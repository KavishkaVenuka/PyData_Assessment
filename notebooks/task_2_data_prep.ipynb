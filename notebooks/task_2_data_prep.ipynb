{
 "cells": [
  {
   "cell_type": "markdown",
   "metadata": {},
   "source": [
    "### Check whether 13 CSV files are exist"
   ]
  },
  {
   "cell_type": "code",
   "execution_count": 8,
   "metadata": {
    "colab": {
     "base_uri": "https://localhost:8080/",
     "height": 1000
    },
    "id": "4Oel34JmlRXk",
    "outputId": "4e3f8725-d228-4071-d5b6-38a7d9da2153"
   },
   "outputs": [
    {
     "name": "stdout",
     "output_type": "stream",
     "text": [
      "Successfully loaded and combined all 13 files. Combined DataFrame info:\n"
     ]
    }
   ],
   "source": [
    "# Import necessary libraries\n",
    "import pandas as pd\n",
    "\n",
    "# Hardcoded file paths\n",
    "file_paths = [\n",
    "    \"../data/WorldCup_Stats/1975_Match_Stats.csv\",\n",
    "    \"../data/WorldCup_Stats/1979_Match_Stats.csv\",\n",
    "    \"../data/WorldCup_Stats/1983_Match_Stats.csv\",\n",
    "    \"../data/WorldCup_Stats/1987_Match_Stats.csv\",\n",
    "    \"../data/WorldCup_Stats/1992_Match_Stats.csv\",\n",
    "    \"../data/WorldCup_Stats/1996_Match_Stats.csv\",\n",
    "    \"../data/WorldCup_Stats/1999_Match_Stats.csv\",\n",
    "    \"../data/WorldCup_Stats/2003_Match_Stats.csv\",\n",
    "    \"../data/WorldCup_Stats/2007_Match_Stats.csv\",\n",
    "    \"../data/WorldCup_Stats/2011_Match_Stats.csv\",\n",
    "    \"../data/WorldCup_Stats/2015_Match_Stats.csv\",\n",
    "    \"../data/WorldCup_Stats/2019_Match_Stats.csv\",\n",
    "    \"../data/WorldCup_Stats/2023_Match_Stats.csv\",\n",
    "]\n",
    "\n",
    "# Ensure the correct number of files is provided\n",
    "if len(file_paths) != 13:\n",
    "    print(\"Error: Please specify exactly 13 CSV file paths.\")\n",
    "else:\n",
    "    # Initialize a list to hold DataFrames\n",
    "    dataframes = []\n",
    "\n",
    "    # Load each file and handle potential errors\n",
    "    for file_path in file_paths:\n",
    "        try:\n",
    "            # Read the CSV file into a DataFrame\n",
    "            df = pd.read_csv(file_path)\n",
    "            # Add the DataFrame to the list\n",
    "            dataframes.append(df)\n",
    "        except FileNotFoundError:\n",
    "            print(f\"Error: File not found -> {file_path}\")\n",
    "        except pd.errors.EmptyDataError:\n",
    "            print(f\"Error: File is empty -> {file_path}\")\n",
    "        except Exception as e:\n",
    "            print(f\"An error occurred while processing {file_path}: {e}\")\n",
    "\n",
    "    # Validate all files were successfully loaded\n",
    "    if len(dataframes) == 13:\n",
    "        print(f\"Successfully loaded and combined all 13 files. Combined DataFrame info:\")\n",
    "    else:\n",
    "        print(\n",
    "            f\"Warning: Only {len(dataframes)} out of 13 files were successfully loaded.\")"
   ]
  },
  {
   "cell_type": "markdown",
   "metadata": {},
   "source": [
    "### Merge 13 CSV files"
   ]
  },
  {
   "cell_type": "code",
   "execution_count": 9,
   "metadata": {},
   "outputs": [
    {
     "name": "stdout",
     "output_type": "stream",
     "text": [
      "Combined CSV file has been saved as '../data/out/combined_world_cup_stats.csv'.\n",
      "   Unnamed: 0.1  Unnamed: 0        date        venue match_category team_1  \\\n",
      "0             0          11         NaN   Nottingham   League-Match    PAK   \n",
      "1             1           5         NaN        Leeds   League-Match    EAf   \n",
      "2             2          12  1975-06-18        Leeds     Semi-Final    ENG   \n",
      "3             3           8  1975-06-14   Birmingham   League-Match    ENG   \n",
      "4             4          13         NaN     The Oval     Semi-Final     NZ   \n",
      "\n",
      "  team_2  team_1_runs  team_1_wickets  team_2_runs  team_2_wickets  \\\n",
      "0     SL        330.0             6.0        138.0             0.0   \n",
      "1    IND        120.0             0.0        123.0             0.0   \n",
      "2    AUS         93.0             0.0         94.0             6.0   \n",
      "3    EAf        290.0             5.0         94.0             0.0   \n",
      "4     WI        158.0             0.0        159.0             5.0   \n",
      "\n",
      "                                              result                 pom  \\\n",
      "0                           Pakistan won by 192 runs        Zaheer Abbas   \n",
      "1  India won by 10 wickets (with 181 balls remain...     Farokh Engineer   \n",
      "2  Australia won by 4 wickets (with 188 balls rem...        Gary Gilmour   \n",
      "3                            England won by 196 runs           John Snow   \n",
      "4  West Indies won by 5 wickets (with 119 balls r...  Alvin Kallicharran   \n",
      "\n",
      "  best_batters best_bowlers commentary_line  world_cup_year host_country  \n",
      "0          NaN          NaN             NaN            1975      England  \n",
      "1          NaN          NaN             NaN            1975      England  \n",
      "2          NaN          NaN             NaN            1975      England  \n",
      "3          NaN          NaN             NaN            1975      England  \n",
      "4          NaN          NaN             NaN            1975      England  \n"
     ]
    }
   ],
   "source": [
    "import pandas as pd\n",
    "import glob\n",
    "\n",
    "# Define the folder path where your CSV files are stored\n",
    "folder_path = \"../data/WorldCup_Stats/*.csv\"\n",
    "\n",
    "# Use glob to find all CSV files in the folder\n",
    "file_paths = glob.glob(folder_path)  # This gets all .csv files in the folder\n",
    "\n",
    "# Check if any CSV files are found\n",
    "if not file_paths:\n",
    "    print(\"No CSV files found in the directory. Please check the folder path.\")\n",
    "else:\n",
    "    # Read each CSV file into a DataFrame and store them in a list\n",
    "    data_frames = [pd.read_csv(file) for file in file_paths]\n",
    "\n",
    "    # Combine all DataFrames into one (row-wise)\n",
    "    combined_df = pd.concat(data_frames, ignore_index=True)\n",
    "\n",
    "    # Save the combined DataFrame to a new CSV file\n",
    "    output_file_name = \"../data/out/combined_world_cup_stats.csv\"\n",
    "    combined_df.to_csv(output_file_name, index=False)\n",
    "\n",
    "    print(f\"Combined CSV file has been saved as '{output_file_name}'.\")\n",
    "    \n",
    "print(combined_df.head())"
   ]
  }
 ],
 "metadata": {
  "colab": {
   "provenance": []
  },
  "kernelspec": {
   "display_name": "Python 3",
   "name": "python3"
  },
  "language_info": {
   "codemirror_mode": {
    "name": "ipython",
    "version": 3
   },
   "file_extension": ".py",
   "mimetype": "text/x-python",
   "name": "python",
   "nbconvert_exporter": "python",
   "pygments_lexer": "ipython3",
   "version": "3.9.0"
  }
 },
 "nbformat": 4,
 "nbformat_minor": 0
}
